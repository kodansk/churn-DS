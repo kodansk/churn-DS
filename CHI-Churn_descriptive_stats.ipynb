{
 "cells": [
  {
   "cell_type": "code",
   "execution_count": null,
   "metadata": {
    "id": "_LjXKNvu8v4Y",
    "outputId": "460e295e-7183-4bef-8bdf-4a1700dc8843"
   },
   "outputs": [
    {
     "data": {
      "text/html": [
       "\n",
       "            <div>\n",
       "                <p><b>SparkSession - hive</b></p>\n",
       "                \n",
       "        <div>\n",
       "            <p><b>SparkContext</b></p>\n",
       "\n",
       "            <p><a href=\"http://10.5.252.214:4054\">Spark UI</a></p>\n",
       "\n",
       "            <dl>\n",
       "              <dt>Version</dt>\n",
       "                <dd><code>v2.2.0.cloudera2</code></dd>\n",
       "              <dt>Master</dt>\n",
       "                <dd><code>yarn</code></dd>\n",
       "              <dt>AppName</dt>\n",
       "                <dd><code>DS_DEV_sam02</code></dd>\n",
       "            </dl>\n",
       "        </div>\n",
       "        \n",
       "            </div>\n",
       "        "
      ],
      "text/plain": [
       "<pyspark.sql.session.SparkSession at 0x7fc92a505350>"
      ]
     },
     "execution_count": 1,
     "metadata": {
      "tags": []
     },
     "output_type": "execute_result"
    }
   ],
   "source": [
    "spark"
   ]
  },
  {
   "cell_type": "code",
   "execution_count": null,
   "metadata": {
    "id": "VjT8S3Jo8v4d"
   },
   "outputs": [],
   "source": [
    "from pyspark.conf import SparkConf\n",
    "from pyspark.sql import SQLContext\n",
    "from pyspark.context import SparkContext\n",
    "import pyspark.sql.functions as psf\n",
    "import pandas as pd\n",
    "import numpy as np\n",
    "from pyspark.sql.types import *"
   ]
  },
  {
   "cell_type": "code",
   "execution_count": null,
   "metadata": {
    "id": "8W4z3A1K8v4e"
   },
   "outputs": [],
   "source": [
    "CHI_data=spark.read.parquet(\"/user/datascience/customer_happiness/dump/binary/event_date=2019-02-28\")"
   ]
  },
  {
   "cell_type": "code",
   "execution_count": null,
   "metadata": {
    "id": "7HleIkRg8v4f",
    "outputId": "4ae189b9-2456-4e91-9d56-e47fd16a54bf"
   },
   "outputs": [
    {
     "name": "stdout",
     "output_type": "stream",
     "text": [
      "root\n",
      " |-- msisdn: string (nullable = true)\n",
      " |-- happiness: integer (nullable = true)\n",
      " |-- probability: double (nullable = true)\n",
      " |-- circle: integer (nullable = true)\n",
      "\n"
     ]
    }
   ],
   "source": [
    "CHI_data.printSchema()"
   ]
  },
  {
   "cell_type": "code",
   "execution_count": null,
   "metadata": {
    "id": "ws4Tsu4y8v4g"
   },
   "outputs": [],
   "source": [
    "#REC_data=spark.sql(\"select * from edw_agg.fact_rec_base_dly where event_date='2019-03-15' \")"
   ]
  },
  {
   "cell_type": "code",
   "execution_count": null,
   "metadata": {
    "id": "AWb5IQtw8v4h"
   },
   "outputs": [],
   "source": [
    "feature_table=spark.sql(\"select msisdn,aon,aon_curr_handset,arpu, data_volume_4g,handset_4g_flag,usim_4g_user \\\n",
    "        from edw_mart.fact_feature_engg_new where event_date='2019-03-15'\")"
   ]
  },
  {
   "cell_type": "code",
   "execution_count": null,
   "metadata": {
    "id": "83ivZMHj8v4i",
    "outputId": "7b8e81c9-8d29-4b73-a4aa-0c366a00e32c"
   },
   "outputs": [
    {
     "name": "stdout",
     "output_type": "stream",
     "text": [
      "+----------+---+----------------+---------+--------------+---------------+------------+\n",
      "|    msisdn|aon|aon_curr_handset|     arpu|data_volume_4g|handset_4g_flag|usim_4g_user|\n",
      "+----------+---+----------------+---------+--------------+---------------+------------+\n",
      "|6203699043|140|              43| 7.531818|          0.00|              1|           1|\n",
      "|6230440624| 30|              30|62.071032|       4931.59|              1|           1|\n",
      "|6232090084|162|              29|51.310464|          0.00|              0|           1|\n",
      "|6232449130| 97|              36| 0.000000|       2074.94|              1|           1|\n",
      "|6232538558| 42|              42|48.330419|          0.00|              0|           1|\n",
      "|6232713837|116|               6|37.927292|          0.00|              0|           1|\n",
      "|6232782353|142|             135| 0.000000|          0.00|              0|           1|\n",
      "|6232931082| 85|              70| 0.000000|          0.00|              1|           1|\n",
      "|6261500488|231|               5|19.544678|          0.00|              0|           1|\n",
      "|6287066625| 74|               4|48.110886|          0.00|              0|           1|\n",
      "|6287163159| 76|               5| 0.000000|          0.00|              0|           1|\n",
      "|6287275724| 39|               8|48.110886|          0.00|              0|           1|\n",
      "|6287377209| 51|              38|13.075060|          0.00|              0|           1|\n",
      "|6287584117| 92|              92|45.678313|          0.00|              1|           1|\n",
      "|6287725300| 41|              41|53.593379|          0.00|              0|           1|\n",
      "|6287822197| 47|              47|86.023244|          0.00|              0|           1|\n",
      "|6299107775|  7|               7| 0.000000|       3657.33|              1|           1|\n",
      "|6309065759|224|              90|42.036492|          0.00|              0|           1|\n",
      "|6309166181|282|              28| 0.000000|          0.00|              0|           1|\n",
      "|6309306319|358|              10|46.134613|          0.00|              0|           1|\n",
      "+----------+---+----------------+---------+--------------+---------------+------------+\n",
      "only showing top 20 rows\n",
      "\n"
     ]
    }
   ],
   "source": [
    "feature_table.show()"
   ]
  },
  {
   "cell_type": "code",
   "execution_count": null,
   "metadata": {
    "id": "HpuWOhpf8v4j"
   },
   "outputs": [],
   "source": [
    "uci_dump=spark.read.parquet(\"/user/B0204116/customer360/uci/dump/event_date=2019-02-15\")"
   ]
  },
  {
   "cell_type": "code",
   "execution_count": null,
   "metadata": {
    "id": "w69G77tP8v4k",
    "outputId": "d5663e97-1fa4-4339-e111-a7fe508a5c1b"
   },
   "outputs": [
    {
     "name": "stdout",
     "output_type": "stream",
     "text": [
      "root\n",
      " |-- subid: string (nullable = true)\n",
      " |-- uci_id: long (nullable = true)\n",
      " |-- lob: string (nullable = true)\n",
      " |-- num_subscriptions: long (nullable = true)\n",
      " |-- customer_type: string (nullable = true)\n",
      " |-- arpu: string (nullable = true)\n",
      " |-- arpa: double (nullable = true)\n",
      " |-- circle: string (nullable = true)\n",
      "\n"
     ]
    }
   ],
   "source": [
    "uci_dump.printSchema()"
   ]
  },
  {
   "cell_type": "code",
   "execution_count": null,
   "metadata": {
    "id": "9TOf81Dv8v4k",
    "outputId": "20232542-243f-4f6b-84c4-b8c26400522d"
   },
   "outputs": [
    {
     "name": "stdout",
     "output_type": "stream",
     "text": [
      "+-------+------------------+\n",
      "|summary|              arpa|\n",
      "+-------+------------------+\n",
      "|  count|         380181082|\n",
      "|   mean|134.31577831236524|\n",
      "| stddev|316.16184452373676|\n",
      "|    min|          -30546.5|\n",
      "|    max|132745.83333333334|\n",
      "+-------+------------------+\n",
      "\n"
     ]
    }
   ],
   "source": [
    "uci_dump.select(\"arpa\").describe().show()"
   ]
  },
  {
   "cell_type": "code",
   "execution_count": null,
   "metadata": {
    "id": "IVv9gsNZ8v4l",
    "outputId": "e0a6d166-50e7-4a4d-fa6a-862cd79cbfad"
   },
   "outputs": [
    {
     "data": {
      "text/plain": [
       "[-30546.5]"
      ]
     },
     "execution_count": 19,
     "metadata": {
      "tags": []
     },
     "output_type": "execute_result"
    }
   ],
   "source": [
    "uci_dump.stat.approxQuantile(\"arpa\",[0.2],0.25)"
   ]
  },
  {
   "cell_type": "code",
   "execution_count": null,
   "metadata": {
    "id": "88H7vJbU8v4l",
    "outputId": "309dd95a-ec7c-4940-f987-363f37a5ebf3"
   },
   "outputs": [
    {
     "data": {
      "text/plain": [
       "[107165.89666666673]"
      ]
     },
     "execution_count": 18,
     "metadata": {
      "tags": []
     },
     "output_type": "execute_result"
    }
   ],
   "source": [
    "uci_dump.stat.approxQuantile(\"arpa\",[0.6],0.25)"
   ]
  },
  {
   "cell_type": "code",
   "execution_count": null,
   "metadata": {
    "id": "eppfmaL28v4m",
    "outputId": "d82e39fb-421d-4cf1-b574-b2affbd53289"
   },
   "outputs": [
    {
     "data": {
      "text/plain": [
       "[107165.89666666673]"
      ]
     },
     "execution_count": 15,
     "metadata": {
      "tags": []
     },
     "output_type": "execute_result"
    }
   ],
   "source": [
    "uci_dump.stat.approxQuantile(\"arpa\",[0.7],0.25)"
   ]
  },
  {
   "cell_type": "code",
   "execution_count": null,
   "metadata": {
    "id": "yB0bnYCx8v4n"
   },
   "outputs": [],
   "source": [
    "uci_dump_flt=uci_dump.select(\"subid\",\"arpu\",\"arpa\")"
   ]
  },
  {
   "cell_type": "code",
   "execution_count": null,
   "metadata": {
    "id": "2rtb1XpS8v4o"
   },
   "outputs": [],
   "source": [
    "arpa_data=CHI_data.join(uci_dump_flt,CHI_data.msisdn==uci_dump_flt.subid, how=\"left\")"
   ]
  },
  {
   "cell_type": "code",
   "execution_count": null,
   "metadata": {
    "id": "W54LMzA38v4p",
    "outputId": "f769fc9f-654a-491d-c4f9-c985ae9e8380"
   },
   "outputs": [
    {
     "name": "stdout",
     "output_type": "stream",
     "text": [
      "root\n",
      " |-- msisdn: string (nullable = true)\n",
      " |-- happiness: integer (nullable = true)\n",
      " |-- probability: double (nullable = true)\n",
      " |-- circle: integer (nullable = true)\n",
      " |-- subid: string (nullable = true)\n",
      " |-- arpu: string (nullable = true)\n",
      " |-- arpa: double (nullable = true)\n",
      "\n"
     ]
    }
   ],
   "source": [
    "arpa_data.printSchema()"
   ]
  },
  {
   "cell_type": "code",
   "execution_count": null,
   "metadata": {
    "id": "5usrg3-38v4p"
   },
   "outputs": [],
   "source": [
    "arpa_data = arpa_data.withColumn(\"arpa\",arpa_data[\"arpa\"].cast(IntegerType()))"
   ]
  },
  {
   "cell_type": "code",
   "execution_count": null,
   "metadata": {
    "id": "k3Nmte_-8v4q"
   },
   "outputs": [],
   "source": [
    "arpa_data = arpa_data.withColumn(\"arpu\",arpa_data[\"arpu\"].cast(IntegerType()))"
   ]
  },
  {
   "cell_type": "code",
   "execution_count": null,
   "metadata": {
    "id": "iBmlQdUl8v4q"
   },
   "outputs": [],
   "source": [
    "arpa_data=arpa_data.fillna(0)"
   ]
  },
  {
   "cell_type": "code",
   "execution_count": null,
   "metadata": {
    "id": "2EUdkw-68v4r"
   },
   "outputs": [],
   "source": [
    "#ARPA_t6=arpa_data.groupBy(\"circle\",\"happiness\").pivot(\"happiness\").agg(\n",
    " #   psf.mean(\"arpa\").alias(\"ARPA\"))"
   ]
  },
  {
   "cell_type": "code",
   "execution_count": null,
   "metadata": {
    "id": "JjNuwnEw8v4s"
   },
   "outputs": [],
   "source": [
    "#ARPA_t6.show()"
   ]
  },
  {
   "cell_type": "code",
   "execution_count": null,
   "metadata": {
    "id": "BsIkl-YX8v4s"
   },
   "outputs": [],
   "source": [
    "#ARPA_t6_final=ARPA_t6.select(\"circle\",\"0\",\"1\")"
   ]
  },
  {
   "cell_type": "code",
   "execution_count": null,
   "metadata": {
    "id": "mESqSqcM8v4s"
   },
   "outputs": [],
   "source": [
    "#ARPA_t6_final.show()"
   ]
  },
  {
   "cell_type": "code",
   "execution_count": null,
   "metadata": {
    "id": "duze5k3T8v4s"
   },
   "outputs": [],
   "source": [
    "def median(values_list):\n",
    "    med = np.median(values_list)\n",
    "    return float(med)\n",
    "udf_median = psf.udf(median, FloatType())"
   ]
  },
  {
   "cell_type": "code",
   "execution_count": null,
   "metadata": {
    "id": "7CnChL3v8v4t"
   },
   "outputs": [],
   "source": [
    "# ARPA_table_6=arpa_data.groupBy(\"circle\",\"happiness\").pivot(\"happiness\").agg(\n",
    "#     udf_median(psf.collect_list(psf.col('arpa'))).alias(\"Median_ARPA\"))"
   ]
  },
  {
   "cell_type": "code",
   "execution_count": null,
   "metadata": {
    "id": "ROg5qPDl8v4t"
   },
   "outputs": [],
   "source": [
    "ARPA_table_6=arpa_data.groupBy(\"circle\",\"happiness\").agg(\n",
    "    udf_median(psf.collect_list(psf.col('arpa'))).alias(\"Median_ARPA\"))"
   ]
  },
  {
   "cell_type": "code",
   "execution_count": null,
   "metadata": {
    "id": "FbTy3w6p8v4u"
   },
   "outputs": [],
   "source": [
    "ARPU_table_6=arpa_data.groupBy(\"circle\",\"happiness\").agg(\n",
    "    udf_median(psf.collect_list(psf.col('arpu'))).alias(\"Median_ARPU\"))"
   ]
  },
  {
   "cell_type": "code",
   "execution_count": null,
   "metadata": {
    "id": "uru3Nxhp8v4u",
    "outputId": "c1f555fb-4571-4ede-dc6a-a3353265e788"
   },
   "outputs": [
    {
     "name": "stdout",
     "output_type": "stream",
     "text": [
      "+------+---------+-----------+\n",
      "|circle|happiness|Median_ARPA|\n",
      "+------+---------+-----------+\n",
      "|   118|        1|       30.0|\n",
      "|   105|        1|      133.0|\n",
      "|   108|        1|      118.0|\n",
      "|   119|        0|       19.0|\n",
      "|   104|        0|       32.0|\n",
      "|   123|        0|       32.0|\n",
      "|   117|        1|      113.0|\n",
      "|   120|        1|       90.0|\n",
      "|   121|        1|      108.0|\n",
      "|   112|        1|      100.0|\n",
      "|   107|        0|       50.0|\n",
      "|   109|        1|      108.0|\n",
      "|   122|        0|       17.0|\n",
      "|   111|        1|       72.0|\n",
      "|   118|        0|       61.0|\n",
      "|   101|        0|       55.0|\n",
      "|   111|        0|       10.0|\n",
      "|   108|        0|       16.0|\n",
      "|   120|        0|       41.0|\n",
      "|   104|        1|      112.0|\n",
      "+------+---------+-----------+\n",
      "only showing top 20 rows\n",
      "\n"
     ]
    }
   ],
   "source": [
    "ARPA_table_6.show()"
   ]
  },
  {
   "cell_type": "code",
   "execution_count": null,
   "metadata": {
    "id": "EKEAL4MS8v4u",
    "outputId": "676d5738-d5af-4a67-b6a8-e943d38294fd"
   },
   "outputs": [
    {
     "name": "stdout",
     "output_type": "stream",
     "text": [
      "+------+---------+-----------+\n",
      "|circle|happiness|Median_ARPU|\n",
      "+------+---------+-----------+\n",
      "|   108|        1|      108.0|\n",
      "|   118|        1|       10.0|\n",
      "|   105|        1|      110.0|\n",
      "|   119|        0|        9.0|\n",
      "|   104|        0|       12.0|\n",
      "|   123|        0|        9.0|\n",
      "|   117|        1|      105.0|\n",
      "|   120|        1|       62.0|\n",
      "|   121|        1|       88.0|\n",
      "|   112|        1|       87.0|\n",
      "|   107|        0|       21.0|\n",
      "|   109|        1|       91.0|\n",
      "|   122|        0|       15.0|\n",
      "|   111|        1|       48.0|\n",
      "|   101|        0|       18.0|\n",
      "|   118|        0|       41.0|\n",
      "|   111|        0|        1.0|\n",
      "|   120|        0|       18.0|\n",
      "|   108|        0|        3.0|\n",
      "|   104|        1|       96.0|\n",
      "+------+---------+-----------+\n",
      "only showing top 20 rows\n",
      "\n"
     ]
    }
   ],
   "source": [
    "ARPU_table_6.show()"
   ]
  },
  {
   "cell_type": "code",
   "execution_count": null,
   "metadata": {
    "id": "efWbGYti8v4v"
   },
   "outputs": [],
   "source": [
    "#ARPA_table_6=ARPA_table_6.select(\"circle\",\"0\",\"1\")"
   ]
  },
  {
   "cell_type": "code",
   "execution_count": null,
   "metadata": {
    "id": "3lh7YxbN8v4v"
   },
   "outputs": [],
   "source": [
    "ARPA_table_6=ARPA_table_6.orderBy(\"circle\")"
   ]
  },
  {
   "cell_type": "code",
   "execution_count": null,
   "metadata": {
    "id": "gPNHwcxO8v4v"
   },
   "outputs": [],
   "source": [
    "ARPU_table_6=ARPU_table_6.orderBy(\"circle\")"
   ]
  },
  {
   "cell_type": "code",
   "execution_count": null,
   "metadata": {
    "id": "SIt1f_w_8v4v",
    "outputId": "9a043534-363c-492b-e415-6f9820900398"
   },
   "outputs": [
    {
     "data": {
      "text/plain": [
       "46"
      ]
     },
     "execution_count": 28,
     "metadata": {
      "tags": []
     },
     "output_type": "execute_result"
    }
   ],
   "source": [
    "#ARPA_table_6.count()"
   ]
  },
  {
   "cell_type": "code",
   "execution_count": null,
   "metadata": {
    "id": "mM6GIV_Q8v4w"
   },
   "outputs": [],
   "source": [
    "#ARPA_table_6_pd=ARPA_table_6.toPandas()"
   ]
  },
  {
   "cell_type": "code",
   "execution_count": null,
   "metadata": {
    "id": "iAVIsanF8v4w"
   },
   "outputs": [],
   "source": [
    "ARPA_data=ARPA_table_6.groupBy('circle').pivot('happiness').agg(psf.max('Median_ARPA').alias('Median_ARPA'))"
   ]
  },
  {
   "cell_type": "code",
   "execution_count": null,
   "metadata": {
    "id": "RMOIdtAn8v4w"
   },
   "outputs": [],
   "source": [
    "ARPU_data=ARPU_table_6.groupBy('circle').pivot('happiness').agg(psf.max('Median_ARPU').alias('Median_ARPU'))"
   ]
  },
  {
   "cell_type": "code",
   "execution_count": null,
   "metadata": {
    "id": "7zOMjimZ8v4x"
   },
   "outputs": [],
   "source": [
    "ARPA_data=ARPA_data.withColumnRenamed(\"0\",\"Unhappy_customer_ARPA\")"
   ]
  },
  {
   "cell_type": "code",
   "execution_count": null,
   "metadata": {
    "id": "eF9oplyE8v4x"
   },
   "outputs": [],
   "source": [
    "ARPA_data=ARPA_data.withColumnRenamed(\"1\",\"Happy_customer_ARPA\")"
   ]
  },
  {
   "cell_type": "code",
   "execution_count": null,
   "metadata": {
    "id": "oagxyKPO8v4x"
   },
   "outputs": [],
   "source": [
    "ARPU_data=ARPU_data.withColumnRenamed(\"0\",\"Unhappy_customer_ARPU\")"
   ]
  },
  {
   "cell_type": "code",
   "execution_count": null,
   "metadata": {
    "id": "91agPluS8v4x"
   },
   "outputs": [],
   "source": [
    "ARPU_data=ARPU_data.withColumnRenamed(\"1\",\"Happy_customer_ARPU\")"
   ]
  },
  {
   "cell_type": "code",
   "execution_count": null,
   "metadata": {
    "id": "-_tg6m9I8v4y"
   },
   "outputs": [],
   "source": [
    "ARPA_data.toPandas().to_csv(\"ARPA_customer_happiness_wise.csv\",index=False,header=True)"
   ]
  },
  {
   "cell_type": "code",
   "execution_count": null,
   "metadata": {
    "id": "hhYjAaMn8v4y"
   },
   "outputs": [],
   "source": [
    "ARPU_data.toPandas().to_csv(\"ARPU_customer_happiness_wise.csv\",index=False,header=True)"
   ]
  },
  {
   "cell_type": "code",
   "execution_count": null,
   "metadata": {
    "id": "-JYaxexr8v4y"
   },
   "outputs": [],
   "source": [
    "AON_AOD_data=CHI_data.join(feature_table,on=\"msisdn\",how=\"left\")"
   ]
  },
  {
   "cell_type": "code",
   "execution_count": null,
   "metadata": {
    "id": "-mSX5-by8v4z",
    "outputId": "fa88d98c-aec1-4f14-ee15-601ca4b814b9"
   },
   "outputs": [
    {
     "name": "stdout",
     "output_type": "stream",
     "text": [
      "root\n",
      " |-- msisdn: string (nullable = true)\n",
      " |-- happiness: integer (nullable = true)\n",
      " |-- probability: double (nullable = true)\n",
      " |-- circle: integer (nullable = true)\n",
      " |-- aon: short (nullable = true)\n",
      " |-- aon_curr_handset: integer (nullable = true)\n",
      " |-- arpu: decimal(18,6) (nullable = true)\n",
      " |-- data_volume_4g: decimal(18,2) (nullable = true)\n",
      " |-- handset_4g_flag: short (nullable = true)\n",
      " |-- usim_4g_user: string (nullable = true)\n",
      "\n"
     ]
    }
   ],
   "source": [
    "AON_AOD_data.printSchema()"
   ]
  },
  {
   "cell_type": "code",
   "execution_count": null,
   "metadata": {
    "id": "Myjw8RiN8v4z"
   },
   "outputs": [],
   "source": [
    "AON_AOD_data = AON_AOD_data.withColumn(\"aon_curr_handset\",AON_AOD_data[\"aon_curr_handset\"].cast(IntegerType()))"
   ]
  },
  {
   "cell_type": "code",
   "execution_count": null,
   "metadata": {
    "id": "7ni1Z6Wf8v40"
   },
   "outputs": [],
   "source": [
    "AON_AOD_data = AON_AOD_data.withColumn(\"aon\",AON_AOD_data[\"aon\"].cast(IntegerType()))"
   ]
  },
  {
   "cell_type": "code",
   "execution_count": null,
   "metadata": {
    "id": "SE5uINwK8v40"
   },
   "outputs": [],
   "source": [
    "AON_AOD_data = AON_AOD_data.withColumn(\"usim_4g_user\",AON_AOD_data[\"usim_4g_user\"].cast(IntegerType()))"
   ]
  },
  {
   "cell_type": "code",
   "execution_count": null,
   "metadata": {
    "id": "jFcVKBk28v40"
   },
   "outputs": [],
   "source": [
    "AON_AOD_data=AON_AOD_data.fillna(0)"
   ]
  },
  {
   "cell_type": "code",
   "execution_count": null,
   "metadata": {
    "id": "hGDjfg_r8v41"
   },
   "outputs": [],
   "source": [
    "Users_4g=AON_AOD_data.where(\"handset_4g_flag = 1 and usim_4g_user = 1 \")"
   ]
  },
  {
   "cell_type": "code",
   "execution_count": null,
   "metadata": {
    "id": "l3IdUNnA8v42"
   },
   "outputs": [],
   "source": [
    "Users_4g_data=Users_4g.groupBy(\"circle\",\"happiness\").count()"
   ]
  },
  {
   "cell_type": "code",
   "execution_count": null,
   "metadata": {
    "id": "tZkRhZSc8v42",
    "outputId": "84493b4b-b27e-481b-d1d9-b7a42545b3cc"
   },
   "outputs": [
    {
     "name": "stdout",
     "output_type": "stream",
     "text": [
      "+------+---------+-------+\n",
      "|circle|happiness|  count|\n",
      "+------+---------+-------+\n",
      "|   118|        1|3149410|\n",
      "|   105|        1|6441014|\n",
      "|   108|        1| 870751|\n",
      "|   119|        0|5904750|\n",
      "|   104|        0|7719671|\n",
      "|   123|        0|1504204|\n",
      "|   117|        1| 976733|\n",
      "|   120|        1|1442709|\n",
      "|   121|        1|3378396|\n",
      "|   112|        1|2698799|\n",
      "|   107|        0|2849162|\n",
      "|   109|        1|2638923|\n",
      "|   122|        0|1565366|\n",
      "|   111|        1|2199216|\n",
      "|   101|        0| 864249|\n",
      "|   118|        0|2142230|\n",
      "|   111|        0|3062062|\n",
      "|   120|        0|2208103|\n",
      "|   108|        0|1239200|\n",
      "|   104|        1|4636209|\n",
      "+------+---------+-------+\n",
      "only showing top 20 rows\n",
      "\n"
     ]
    }
   ],
   "source": [
    "Users_4g_data.show()"
   ]
  },
  {
   "cell_type": "code",
   "execution_count": null,
   "metadata": {
    "id": "0qvc5W4b8v42"
   },
   "outputs": [],
   "source": [
    "Users_4g_data_00=Users_4g_data.groupBy('circle').pivot('happiness').agg(psf.max(\"count\").alias(\"4G_Users\"))"
   ]
  },
  {
   "cell_type": "code",
   "execution_count": null,
   "metadata": {
    "id": "_3v_h0Ng8v43"
   },
   "outputs": [],
   "source": [
    "Users_4g_data_00=Users_4g_data_00.orderBy(\"circle\")"
   ]
  },
  {
   "cell_type": "code",
   "execution_count": null,
   "metadata": {
    "id": "2MSbCEvE8v43",
    "outputId": "2373a6b7-f0c2-4943-ede7-4b249a5df706"
   },
   "outputs": [
    {
     "name": "stdout",
     "output_type": "stream",
     "text": [
      "root\n",
      " |-- circle: integer (nullable = true)\n",
      " |-- 0: long (nullable = true)\n",
      " |-- 1: long (nullable = true)\n",
      "\n"
     ]
    }
   ],
   "source": [
    "Users_4g_data_00.printSchema()"
   ]
  },
  {
   "cell_type": "code",
   "execution_count": null,
   "metadata": {
    "id": "kOmhAZsd8v44"
   },
   "outputs": [],
   "source": [
    "Users_4g_data_00=Users_4g_data_00.withColumnRenamed(\"0\",\"Unhappy_4G_user\")"
   ]
  },
  {
   "cell_type": "code",
   "execution_count": null,
   "metadata": {
    "id": "1pHU8RCR8v44"
   },
   "outputs": [],
   "source": [
    "Users_4g_data_00=Users_4g_data_00.withColumnRenamed(\"1\",\"Happy_4G_user\")"
   ]
  },
  {
   "cell_type": "code",
   "execution_count": null,
   "metadata": {
    "id": "jj2PRO5E8v45",
    "outputId": "239b650e-5be2-4c8a-d264-1afbbbaa1fad"
   },
   "outputs": [
    {
     "data": {
      "text/plain": [
       "[('circle', 'int'), ('Unhappy_4G_user', 'bigint'), ('Happy_4G_user', 'bigint')]"
      ]
     },
     "execution_count": 79,
     "metadata": {
      "tags": []
     },
     "output_type": "execute_result"
    }
   ],
   "source": [
    "Users_4g_data_00.dtypes"
   ]
  },
  {
   "cell_type": "code",
   "execution_count": null,
   "metadata": {
    "id": "YDgsHyWz8v45"
   },
   "outputs": [],
   "source": [
    "Users_4g_data_00=Users_4g_data_00.withColumn(\"sum\",Users_4g_data_00.Unhappy_4G_user+Users_4g_data_00.Happy_4G_user)"
   ]
  },
  {
   "cell_type": "code",
   "execution_count": null,
   "metadata": {
    "id": "T2ppaK7D8v46",
    "outputId": "b3ac5b0f-3cfd-448a-9dcc-f52a020adcc0"
   },
   "outputs": [
    {
     "name": "stdout",
     "output_type": "stream",
     "text": [
      "+------+---------------+-------------+--------+\n",
      "|circle|Unhappy_4G_user|Happy_4G_user|     sum|\n",
      "+------+---------------+-------------+--------+\n",
      "|   101|         864249|       578810| 1443059|\n",
      "|   102|        4561113|      5181373| 9742486|\n",
      "|   103|        3155942|      2777044| 5932986|\n",
      "|   104|        7719671|      4636209|12355880|\n",
      "|   105|        7083169|      6441014|13524183|\n",
      "|   106|        3347071|      2283982| 5631053|\n",
      "|   107|        2849162|      2427471| 5276633|\n",
      "|   108|        1239200|       870751| 2109951|\n",
      "|   109|        2844770|      2638923| 5483693|\n",
      "|   110|        3611373|      1917198| 5528571|\n",
      "|   111|        3062062|      2199216| 5261278|\n",
      "|   112|        4919013|      2698799| 7617812|\n",
      "|   113|        1712891|      1299128| 3012019|\n",
      "|   114|        3500147|      3132826| 6632973|\n",
      "|   115|        1039510|      1717677| 2757187|\n",
      "|   116|        5677936|      3034744| 8712680|\n",
      "|   117|        1448183|       976733| 2424916|\n",
      "|   118|        2142230|      3149410| 5291640|\n",
      "|   119|        5904750|      3546140| 9450890|\n",
      "|   120|        2208103|      1442709| 3650812|\n",
      "+------+---------------+-------------+--------+\n",
      "only showing top 20 rows\n",
      "\n"
     ]
    }
   ],
   "source": [
    "Users_4g_data_00.show()"
   ]
  },
  {
   "cell_type": "code",
   "execution_count": null,
   "metadata": {
    "id": "GZAlUMDP8v46"
   },
   "outputs": [],
   "source": [
    "Users_4g_data_00=Users_4g_data_00.withColumn(\"percentage_unhappy_4g_user\",((Users_4g_data_00.Unhappy_4G_user)/(Users_4g_data_00.sum)*100))"
   ]
  },
  {
   "cell_type": "code",
   "execution_count": null,
   "metadata": {
    "id": "NYIfuvPR8v46",
    "outputId": "00e96df6-5612-439b-98aa-4da67268c3c7"
   },
   "outputs": [
    {
     "name": "stdout",
     "output_type": "stream",
     "text": [
      "+------+---------------+-------------+--------+--------------------------+\n",
      "|circle|Unhappy_4G_user|Happy_4G_user|     sum|percentage_unhappy_4g_user|\n",
      "+------+---------------+-------------+--------+--------------------------+\n",
      "|   101|         864249|       578810| 1443059|        59.890066864902956|\n",
      "|   102|        4561113|      5181373| 9742486|         46.81672624420502|\n",
      "|   103|        3155942|      2777044| 5932986|         53.19314759886505|\n",
      "|   104|        7719671|      4636209|12355880|        62.477711016940916|\n",
      "|   105|        7083169|      6441014|13524183|        52.374099049088585|\n",
      "|   106|        3347071|      2283982| 5631053|         59.43952223500649|\n",
      "|   107|        2849162|      2427471| 5276633|         53.99583408586498|\n",
      "|   108|        1239200|       870751| 2109951|         58.73122172031483|\n",
      "|   109|        2844770|      2638923| 5483693|         51.87690120508205|\n",
      "|   110|        3611373|      1917198| 5528571|         65.32199731178274|\n",
      "|   111|        3062062|      2199216| 5261278|        58.199965863807236|\n",
      "|   112|        4919013|      2698799| 7617812|         64.57251767305362|\n",
      "|   113|        1712891|      1299128| 3012019|        56.868532369815725|\n",
      "|   114|        3500147|      3132826| 6632973|         52.76890166747249|\n",
      "|   115|        1039510|      1717677| 2757187|        37.701831613162256|\n",
      "|   116|        5677936|      3034744| 8712680|         65.16865074810507|\n",
      "|   117|        1448183|       976733| 2424916|         59.72095528257474|\n",
      "|   118|        2142230|      3149410| 5291640|         40.48329062445669|\n",
      "|   119|        5904750|      3546140| 9450890|         62.47824278983249|\n",
      "|   120|        2208103|      1442709| 3650812|         60.48251731395645|\n",
      "+------+---------------+-------------+--------+--------------------------+\n",
      "only showing top 20 rows\n",
      "\n"
     ]
    }
   ],
   "source": [
    "Users_4g_data_00.show()"
   ]
  },
  {
   "cell_type": "code",
   "execution_count": null,
   "metadata": {
    "id": "SmoqUc568v47"
   },
   "outputs": [],
   "source": [
    "Users_4g_data_00=Users_4g_data_00.withColumn(\"percentage_happy_4g_user\",((Users_4g_data_00.Happy_4G_user)/(Users_4g_data_00.sum)*100))"
   ]
  },
  {
   "cell_type": "code",
   "execution_count": null,
   "metadata": {
    "id": "Sei9MNMT8v49"
   },
   "outputs": [],
   "source": [
    "Users_4g_percnt=Users_4g_data_00.select(\"circle\",\"percentage_unhappy_4g_user\",\"percentage_happy_4g_user\")"
   ]
  },
  {
   "cell_type": "code",
   "execution_count": null,
   "metadata": {
    "id": "avCThqra8v4-",
    "outputId": "953087bd-2674-411d-db14-0cd2d56476d4"
   },
   "outputs": [
    {
     "name": "stdout",
     "output_type": "stream",
     "text": [
      "+------+--------------------------+------------------------+\n",
      "|circle|percentage_unhappy_4g_user|percentage_happy_4g_user|\n",
      "+------+--------------------------+------------------------+\n",
      "|   101|        59.890066864902956|      40.109933135097044|\n",
      "|   102|         46.81672624420502|       53.18327375579498|\n",
      "|   103|         53.19314759886505|       46.80685240113494|\n",
      "|   104|        62.477711016940916|       37.52228898305908|\n",
      "|   105|        52.374099049088585|      47.625900950911415|\n",
      "|   106|         59.43952223500649|       40.56047776499351|\n",
      "|   107|         53.99583408586498|       46.00416591413502|\n",
      "|   108|         58.73122172031483|       41.26877827968517|\n",
      "|   109|         51.87690120508205|       48.12309879491795|\n",
      "|   110|         65.32199731178274|       34.67800268821726|\n",
      "|   111|        58.199965863807236|      41.800034136192764|\n",
      "|   112|         64.57251767305362|      35.427482326946375|\n",
      "|   113|        56.868532369815725|      43.131467630184275|\n",
      "|   114|         52.76890166747249|       47.23109833252751|\n",
      "|   115|        37.701831613162256|       62.29816838683775|\n",
      "|   116|         65.16865074810507|       34.83134925189494|\n",
      "|   117|         59.72095528257474|       40.27904471742526|\n",
      "|   118|         40.48329062445669|       59.51670937554331|\n",
      "|   119|         62.47824278983249|       37.52175721016751|\n",
      "|   120|         60.48251731395645|       39.51748268604354|\n",
      "+------+--------------------------+------------------------+\n",
      "only showing top 20 rows\n",
      "\n"
     ]
    }
   ],
   "source": [
    "Users_4g_percnt.show()"
   ]
  },
  {
   "cell_type": "code",
   "execution_count": null,
   "metadata": {
    "id": "DXr_3CXN8v4-"
   },
   "outputs": [],
   "source": [
    "Users_4g_percnt.toPandas().to_csv(\"Percentage_4g_users.csv\",index=False,header=True)"
   ]
  },
  {
   "cell_type": "code",
   "execution_count": null,
   "metadata": {
    "id": "5pA6kps-8v4_"
   },
   "outputs": [],
   "source": []
  },
  {
   "cell_type": "code",
   "execution_count": null,
   "metadata": {
    "id": "5PgrLTf78v4_"
   },
   "outputs": [],
   "source": [
    "AON_data=AON_AOD_data.groupBy(\"circle\",\"happiness\").agg(\n",
    "    udf_median(psf.collect_list(psf.col('aon'))).alias(\"Median_AON\"))"
   ]
  },
  {
   "cell_type": "code",
   "execution_count": null,
   "metadata": {
    "id": "pKToS1_S8v5A"
   },
   "outputs": [],
   "source": [
    "AOD_data=AON_AOD_data.groupBy(\"circle\",\"happiness\").agg(\n",
    "    udf_median(psf.collect_list(psf.col('aon_curr_handset'))).alias(\"Median_AOD\"))"
   ]
  },
  {
   "cell_type": "code",
   "execution_count": null,
   "metadata": {
    "id": "YW-sOo8f8v5A"
   },
   "outputs": [],
   "source": [
    "AON_data=AON_data.orderBy(\"circle\")"
   ]
  },
  {
   "cell_type": "code",
   "execution_count": null,
   "metadata": {
    "id": "rhHtWCcZ8v5A"
   },
   "outputs": [],
   "source": [
    "AOD_data=AOD_data.orderBy(\"circle\")"
   ]
  },
  {
   "cell_type": "code",
   "execution_count": null,
   "metadata": {
    "id": "no2MOd3T8v5A"
   },
   "outputs": [],
   "source": [
    "AON_data_00=AON_data.groupBy('circle').pivot('happiness').agg(psf.max('Median_AON').alias('Median_AON'))"
   ]
  },
  {
   "cell_type": "code",
   "execution_count": null,
   "metadata": {
    "id": "A76gqP2G8v5B"
   },
   "outputs": [],
   "source": [
    "AOD_data_00=AOD_data.groupBy('circle').pivot('happiness').agg(psf.max('Median_AOD').alias('Median_AOD'))"
   ]
  },
  {
   "cell_type": "code",
   "execution_count": null,
   "metadata": {
    "id": "4BmSrCO98v5B"
   },
   "outputs": [],
   "source": [
    "AON_data_00=AON_data_00.withColumnRenamed(\"0\",\"Unhappy_customer_AON\")"
   ]
  },
  {
   "cell_type": "code",
   "execution_count": null,
   "metadata": {
    "id": "crfRblHy8v5B"
   },
   "outputs": [],
   "source": [
    "AON_data_00=AON_data_00.withColumnRenamed(\"1\",\"Happy_customer_AON\")"
   ]
  },
  {
   "cell_type": "code",
   "execution_count": null,
   "metadata": {
    "id": "gPZn6mjQ8v5B"
   },
   "outputs": [],
   "source": [
    "AOD_data_00=AOD_data_00.withColumnRenamed(\"0\",\"Unhappy_customer_AOD\")"
   ]
  },
  {
   "cell_type": "code",
   "execution_count": null,
   "metadata": {
    "id": "ZBy6ZbhD8v5B"
   },
   "outputs": [],
   "source": [
    "AOD_data_00=AOD_data_00.withColumnRenamed(\"1\",\"Happy_customer_AOD\")"
   ]
  },
  {
   "cell_type": "code",
   "execution_count": null,
   "metadata": {
    "id": "gHYIBXP78v5C"
   },
   "outputs": [],
   "source": [
    "AON_data_00.toPandas().to_csv(\"AON_customer_happiness_wise.csv\",index=False,header=True)"
   ]
  },
  {
   "cell_type": "code",
   "execution_count": null,
   "metadata": {
    "id": "2thR_IFS8v5C"
   },
   "outputs": [],
   "source": [
    "AOD_data_00.toPandas().to_csv(\"AOD_customer_happiness_wise.csv\",index=False,header=True)"
   ]
  },
  {
   "cell_type": "code",
   "execution_count": null,
   "metadata": {
    "id": "oQpwu_xR8v5C"
   },
   "outputs": [],
   "source": [
    "#ARPA_table_6.show()"
   ]
  },
  {
   "cell_type": "code",
   "execution_count": null,
   "metadata": {
    "id": "Q0ir3A6E8v5D"
   },
   "outputs": [],
   "source": [
    "#ARPA_table_6_final=ARPA_table_6.groupBy(\"circle\").count()"
   ]
  },
  {
   "cell_type": "code",
   "execution_count": null,
   "metadata": {
    "id": "aZQN0ybj8v5D"
   },
   "outputs": [],
   "source": [
    "REC_data=spark.sql(\"select * from edw_mart.fact_unified_rec_base_dly where event_date='2019-03-15'\")"
   ]
  },
  {
   "cell_type": "code",
   "execution_count": null,
   "metadata": {
    "id": "7OzLY-QG8v5D",
    "outputId": "373afff6-ca6c-46b4-bdb7-c6a8f8e8a5dd"
   },
   "outputs": [
    {
     "name": "stdout",
     "output_type": "stream",
     "text": [
      "root\n",
      " |-- subscriber_id: decimal(25,0) (nullable = true)\n",
      " |-- msisdn: string (nullable = true)\n",
      " |-- report_date: date (nullable = true)\n",
      " |-- last_usage_date: date (nullable = true)\n",
      " |-- circle_id: short (nullable = true)\n",
      " |-- service_type: byte (nullable = true)\n",
      " |-- voice_network: short (nullable = true)\n",
      " |-- voice_og_network: short (nullable = true)\n",
      " |-- data_network: short (nullable = true)\n",
      " |-- video_network: short (nullable = true)\n",
      " |-- overall_network: short (nullable = true)\n",
      " |-- sms_og_network: short (nullable = true)\n",
      " |-- load_date: timestamp (nullable = true)\n",
      " |-- load_user: string (nullable = true)\n",
      " |-- product_type: string (nullable = true)\n",
      " |-- event_date: string (nullable = true)\n",
      " |-- circle: string (nullable = true)\n",
      "\n"
     ]
    }
   ],
   "source": [
    "REC_data.printSchema()"
   ]
  },
  {
   "cell_type": "code",
   "execution_count": null,
   "metadata": {
    "id": "yPcHInw08v5E"
   },
   "outputs": [],
   "source": [
    "REC=REC_data.select(\"msisdn\",\"overall_network\",\"product_type\")"
   ]
  },
  {
   "cell_type": "code",
   "execution_count": null,
   "metadata": {
    "id": "YJV2v8zs8v5E"
   },
   "outputs": [],
   "source": [
    "REC_users=CHI_data.join(REC,on=\"msisdn\",how=\"left\")"
   ]
  },
  {
   "cell_type": "code",
   "execution_count": null,
   "metadata": {
    "id": "fFqI1UII8v5E",
    "outputId": "36960396-4c06-41fd-c328-c323df502e4f"
   },
   "outputs": [
    {
     "name": "stdout",
     "output_type": "stream",
     "text": [
      "+------------+\n",
      "|product_type|\n",
      "+------------+\n",
      "|      OTHERS|\n",
      "|     NON_M2M|\n",
      "|        null|\n",
      "|         M2M|\n",
      "|      BUNDLE|\n",
      "|       SMART|\n",
      "+------------+\n",
      "\n"
     ]
    }
   ],
   "source": [
    "REC_users.select(\"product_type\").distinct().show()"
   ]
  },
  {
   "cell_type": "code",
   "execution_count": null,
   "metadata": {
    "id": "TuTYi5m98v5F"
   },
   "outputs": [],
   "source": [
    "bundle_users=REC_users.where(\"product_type == 'BUNDLE'\")"
   ]
  },
  {
   "cell_type": "code",
   "execution_count": null,
   "metadata": {
    "id": "hfdw2Bwr8v5F"
   },
   "outputs": [],
   "source": [
    "bundle_data=bundle_users.groupBy(\"circle\",\"happiness\").count()"
   ]
  },
  {
   "cell_type": "code",
   "execution_count": null,
   "metadata": {
    "id": "qkTY-BGJ8v5F"
   },
   "outputs": [],
   "source": [
    "Bundle_data_00=bundle_data.groupBy('circle').pivot('happiness').agg(psf.max(\"count\").alias(\"bundle_Users\"))"
   ]
  },
  {
   "cell_type": "code",
   "execution_count": null,
   "metadata": {
    "id": "2t_uRg1p8v5F"
   },
   "outputs": [],
   "source": [
    "Bundle_data_00=Bundle_data_00.orderBy(\"circle\")"
   ]
  },
  {
   "cell_type": "code",
   "execution_count": null,
   "metadata": {
    "id": "BKYA_cjR8v5G",
    "outputId": "5ea5f026-e00e-4400-edb8-2f6ae65ba9f6"
   },
   "outputs": [
    {
     "name": "stdout",
     "output_type": "stream",
     "text": [
      "+------+-------+-------+\n",
      "|circle|      0|      1|\n",
      "+------+-------+-------+\n",
      "|   101| 660498| 772350|\n",
      "|   102|2462047|3763624|\n",
      "|   103|2243954|2611110|\n",
      "|   104|5720350|5241658|\n",
      "|   105|5633489|6694922|\n",
      "|   106|2367641|2694693|\n",
      "|   107|1798751|2647112|\n",
      "|   108| 704533| 944299|\n",
      "|   109|1340835|1974010|\n",
      "|   110|2192416|2558528|\n",
      "|   111|2043681|2168593|\n",
      "|   112|2692219|2922103|\n",
      "|   113| 843390|1296192|\n",
      "|   114|2733742|3750501|\n",
      "|   115| 817818|1094380|\n",
      "|   116|5492515|4839330|\n",
      "|   117|1132330|1296739|\n",
      "|   118|2716417|2641718|\n",
      "|   119|6277455|5938714|\n",
      "|   120|2424082|2036647|\n",
      "+------+-------+-------+\n",
      "only showing top 20 rows\n",
      "\n"
     ]
    }
   ],
   "source": [
    "Bundle_data_00.show()"
   ]
  },
  {
   "cell_type": "code",
   "execution_count": null,
   "metadata": {
    "id": "f-xVQVTe8v5G"
   },
   "outputs": [],
   "source": [
    "Bundle_data_00=Bundle_data_00.withColumnRenamed(\"0\",\"unhappy_bundle_user\")"
   ]
  },
  {
   "cell_type": "code",
   "execution_count": null,
   "metadata": {
    "id": "nY83YFtR8v5G"
   },
   "outputs": [],
   "source": [
    "Bundle_data_00=Bundle_data_00.withColumnRenamed(\"1\",\"happy_bundle_user\")"
   ]
  },
  {
   "cell_type": "code",
   "execution_count": null,
   "metadata": {
    "id": "oeuR3ADC8v5H"
   },
   "outputs": [],
   "source": [
    "Bundle_data_00=Bundle_data_00.withColumn(\"sum\",Bundle_data_00.unhappy_bundle_user + Bundle_data_00.happy_bundle_user)"
   ]
  },
  {
   "cell_type": "code",
   "execution_count": null,
   "metadata": {
    "id": "N2YPQvRv8v5H"
   },
   "outputs": [],
   "source": [
    "Bundle_data_00=Bundle_data_00.withColumn(\"percent_users_bundle_unhappy\",\n",
    "                                         ((Bundle_data_00.unhappy_bundle_user)/(Bundle_data_00.sum)*100))"
   ]
  },
  {
   "cell_type": "code",
   "execution_count": null,
   "metadata": {
    "id": "cyCy0hos8v5J"
   },
   "outputs": [],
   "source": [
    "Bundle_data_00=Bundle_data_00.withColumn(\"percent_users_bundle_happy\",\n",
    "                                         ((Bundle_data_00.happy_bundle_user)/(Bundle_data_00.sum)*100))"
   ]
  },
  {
   "cell_type": "code",
   "execution_count": null,
   "metadata": {
    "id": "LRuoxgq58v5J",
    "outputId": "df830106-5f97-4dda-f59c-dd2bf8fa2214"
   },
   "outputs": [
    {
     "name": "stdout",
     "output_type": "stream",
     "text": [
      "+------+-------------------+-----------------+--------+----------------------------+--------------------------+\n",
      "|circle|unhappy_bundle_user|happy_bundle_user|     sum|percent_users_bundle_unhappy|percent_users_bundle_happy|\n",
      "+------+-------------------+-----------------+--------+----------------------------+--------------------------+\n",
      "|   101|             660498|           772350| 1432848|          46.096864426652374|        53.903135573347626|\n",
      "|   102|            2462047|          3763624| 6225671|          39.546693039192085|        60.453306960807915|\n",
      "|   103|            2243954|          2611110| 4855064|          46.218834602386295|        53.781165397613705|\n",
      "|   104|            5720350|          5241658|10962008|          52.183413841697615|        47.816586158302385|\n",
      "|   105|            5633489|          6694922|12328411|           45.69517515274272|         54.30482484725728|\n",
      "|   106|            2367641|          2694693| 5062334|           46.76975086985568|        53.230249130144315|\n",
      "|   107|            1798751|          2647112| 4445863|           40.45898400378059|         59.54101599621941|\n",
      "|   108|             704533|           944299| 1648832|           42.72921680316733|         57.27078319683267|\n",
      "|   109|            1340835|          1974010| 3314845|           40.44940261158516|        59.550597388414836|\n",
      "|   110|            2192416|          2558528| 4750944|           46.14695521563715|         53.85304478436286|\n",
      "|   111|            2043681|          2168593| 4212274|           48.51728543774693|         51.48271456225307|\n",
      "|   112|            2692219|          2922103| 5614322|          47.952700254812605|        52.047299745187395|\n",
      "|   113|             843390|          1296192| 2139582|           39.41844715463114|         60.58155284536886|\n",
      "|   114|            2733742|          3750501| 6484243|            42.1597710017962|          57.8402289982038|\n",
      "|   115|             817818|          1094380| 1912198|           42.76847899642192|         57.23152100357808|\n",
      "|   116|            5492515|          4839330|10331845|           53.16102787062717|         46.83897212937283|\n",
      "|   117|            1132330|          1296739| 2429069|          46.615802185940375|         53.38419781405963|\n",
      "|   118|            2716417|          2641718| 5358135|          50.697061570863745|        49.302938429136255|\n",
      "|   119|            6277455|          5938714|12216169|           51.38644529230072|         48.61355470769928|\n",
      "|   120|            2424082|          2036647| 4460729|           54.34273187185323|         45.65726812814677|\n",
      "+------+-------------------+-----------------+--------+----------------------------+--------------------------+\n",
      "only showing top 20 rows\n",
      "\n"
     ]
    }
   ],
   "source": [
    "Bundle_data_00.show()"
   ]
  },
  {
   "cell_type": "code",
   "execution_count": null,
   "metadata": {
    "id": "0lLf53Zm8v5J"
   },
   "outputs": [],
   "source": [
    "On_bundle_users=Bundle_data_00.select(\"circle\",\"percent_users_bundle_unhappy\",\"percent_users_bundle_happy\")"
   ]
  },
  {
   "cell_type": "code",
   "execution_count": null,
   "metadata": {
    "id": "MASbSnc08v5K"
   },
   "outputs": [],
   "source": [
    "On_bundle_users.toPandas().to_csv(\"bundle_users_happiness_wise.csv\",index=False,header=True)"
   ]
  },
  {
   "cell_type": "code",
   "execution_count": null,
   "metadata": {
    "id": "f6vOdVK48v5K"
   },
   "outputs": [],
   "source": []
  },
  {
   "cell_type": "code",
   "execution_count": null,
   "metadata": {
    "id": "gc0IknBs8v5K"
   },
   "outputs": [],
   "source": [
    "total_rec_non_rec=REC_users.groupBy(\"circle\",\"happiness\").count()"
   ]
  },
  {
   "cell_type": "code",
   "execution_count": null,
   "metadata": {
    "id": "vihjmWYO8v5K"
   },
   "outputs": [],
   "source": [
    "total_rec_non_rec=total_rec_non_rec.orderBy(\"circle\")"
   ]
  },
  {
   "cell_type": "code",
   "execution_count": null,
   "metadata": {
    "id": "ZQ9rBECR8v5L"
   },
   "outputs": [],
   "source": [
    "total_rec_non_rec_data=total_rec_non_rec.groupBy('circle').pivot('happiness').agg(psf.max(\"count\"))"
   ]
  },
  {
   "cell_type": "code",
   "execution_count": null,
   "metadata": {
    "id": "Sl_avhe68v5L",
    "outputId": "c82d8fe6-94a9-4d17-af65-e374ea26bd98"
   },
   "outputs": [
    {
     "name": "stdout",
     "output_type": "stream",
     "text": [
      "+---------------+\n",
      "|overall_network|\n",
      "+---------------+\n",
      "|            -99|\n",
      "|           null|\n",
      "|              1|\n",
      "|              3|\n",
      "|              4|\n",
      "|              2|\n",
      "+---------------+\n",
      "\n"
     ]
    }
   ],
   "source": [
    "REC_users.select(\"overall_network\").distinct().show()"
   ]
  },
  {
   "cell_type": "code",
   "execution_count": null,
   "metadata": {
    "id": "K-3aelRV8v5L",
    "outputId": "743b4b87-fcdd-41a0-8bc6-ecf9c30e09e1"
   },
   "outputs": [
    {
     "name": "stdout",
     "output_type": "stream",
     "text": [
      "+------------+\n",
      "|service_type|\n",
      "+------------+\n",
      "|        null|\n",
      "|           1|\n",
      "|           9|\n",
      "+------------+\n",
      "\n"
     ]
    }
   ],
   "source": [
    "REC_users.select(\"service_type\").distinct().show()"
   ]
  },
  {
   "cell_type": "code",
   "execution_count": null,
   "metadata": {
    "id": "dm5BYhNs8v5M"
   },
   "outputs": [],
   "source": [
    "Non_rec_users=REC_users.where(\"overall_network = -99\")"
   ]
  },
  {
   "cell_type": "code",
   "execution_count": null,
   "metadata": {
    "id": "fdThpZe98v5M",
    "outputId": "f44c4906-cbc4-43ac-bbd5-e25fed21fdc7"
   },
   "outputs": [
    {
     "name": "stdout",
     "output_type": "stream",
     "text": [
      "+----------+---------+-----------+------+--------------------+-----------+---------------+---------+------------+-------------+----------------+------------+-------------+---------------+--------------+-------------------+---------+------------+----------+------+\n",
      "|    msisdn|happiness|probability|circle|       subscriber_id|report_date|last_usage_date|circle_id|service_type|voice_network|voice_og_network|data_network|video_network|overall_network|sms_og_network|          load_date|load_user|product_type|event_date|circle|\n",
      "+----------+---------+-----------+------+--------------------+-----------+---------------+---------+------------+-------------+----------------+------------+-------------+---------------+--------------+-------------------+---------+------------+----------+------+\n",
      "|6200324977|        0|       0.58|   119|11901000006200324...| 2019-03-15|           null|      119|           9|          -99|             -99|         -99|          -99|            -99|           -99|2019-03-17 05:49:34|    airun|        null|2019-03-15|   119|\n",
      "|6201605178|        0|       0.53|   119|11901000006201605...| 2019-03-15|           null|      119|           9|          -99|             -99|         -99|          -99|            -99|           -99|2019-03-17 05:49:34|    airun|        null|2019-03-15|   119|\n",
      "|6201986705|        0|       0.52|   102|10201000006201986...| 2019-03-15|           null|      102|           9|          -99|             -99|         -99|          -99|            -99|           -99|2019-03-17 05:22:33|    airun|        null|2019-03-15|   102|\n",
      "|6202952178|        0|       0.53|   119|11901000006202952...| 2019-03-15|           null|      119|           9|          -99|             -99|         -99|          -99|            -99|           -99|2019-03-17 05:49:30|    airun|        null|2019-03-15|   119|\n",
      "|6203034746|        0|       0.51|   119|11901000006203034...| 2019-03-15|           null|      119|           9|          -99|             -99|         -99|          -99|            -99|           -99|2019-03-17 05:49:32|    airun|        null|2019-03-15|   119|\n",
      "|6203413097|        1|       0.51|   119|11901000006203413...| 2019-03-15|           null|      119|           9|          -99|             -99|         -99|          -99|            -99|           -99|2019-03-17 05:49:30|    airun|        null|2019-03-15|   119|\n",
      "|6206365428|        0|       0.54|   119|11901000006206365...| 2019-03-15|           null|      119|           9|          -99|             -99|         -99|          -99|            -99|           -99|2019-03-17 05:49:30|    airun|        null|2019-03-15|   119|\n",
      "|6206625987|        1|       0.51|   119|11901000006206625...| 2019-03-15|           null|      119|           9|          -99|             -99|         -99|          -99|            -99|           -99|2019-03-17 05:49:34|    airun|        null|2019-03-15|   119|\n",
      "|6209658755|        0|       0.58|   119|11901000006209658...| 2019-03-15|           null|      119|           9|          -99|             -99|         -99|          -99|            -99|           -99|2019-03-17 05:49:34|    airun|        null|2019-03-15|   119|\n",
      "|6230300841|        0|       0.57|   101|10101000006230300...| 2019-03-15|           null|      101|           9|          -99|             -99|         -99|          -99|            -99|           -99|2019-03-17 05:17:09|    airun|        null|2019-03-15|   101|\n",
      "|6230301080|        0|       0.57|   101|10101000006230301...| 2019-03-15|           null|      101|           9|          -99|             -99|         -99|          -99|            -99|           -99|2019-03-17 05:17:08|    airun|        null|2019-03-15|   101|\n",
      "|6230301195|        0|       0.57|   101|10101000006230301...| 2019-03-15|           null|      101|           9|          -99|             -99|         -99|          -99|            -99|           -99|2019-03-17 05:17:02|    airun|        null|2019-03-15|   101|\n",
      "|6230302556|        0|       0.56|   101|10101000006230302...| 2019-03-15|           null|      101|           9|          -99|             -99|         -99|          -99|            -99|           -99|2019-03-17 05:17:02|    airun|        null|2019-03-15|   101|\n",
      "|6230304106|        0|       0.57|   101|10101000006230304...| 2019-03-15|           null|      101|           9|          -99|             -99|         -99|          -99|            -99|           -99|2019-03-17 05:17:02|    airun|        null|2019-03-15|   101|\n",
      "|6230306993|        0|       0.57|   101|10101000006230306...| 2019-03-15|           null|      101|           9|          -99|             -99|         -99|          -99|            -99|           -99|2019-03-17 05:17:08|    airun|        null|2019-03-15|   101|\n",
      "|6230307027|        0|       0.57|   101|10101000006230307...| 2019-03-15|           null|      101|           9|          -99|             -99|         -99|          -99|            -99|           -99|2019-03-17 05:17:02|    airun|        null|2019-03-15|   101|\n",
      "|6230308594|        0|       0.57|   101|10101000006230308...| 2019-03-15|           null|      101|           9|          -99|             -99|         -99|          -99|            -99|           -99|2019-03-17 05:17:02|    airun|        null|2019-03-15|   101|\n",
      "|6230308832|        0|       0.57|   101|10101000006230308...| 2019-03-15|           null|      101|           9|          -99|             -99|         -99|          -99|            -99|           -99|2019-03-17 05:17:07|    airun|        null|2019-03-15|   101|\n",
      "|6230308933|        0|       0.57|   101|10101000006230308...| 2019-03-15|           null|      101|           9|          -99|             -99|         -99|          -99|            -99|           -99|2019-03-17 05:17:07|    airun|        null|2019-03-15|   101|\n",
      "|6230312318|        0|       0.57|   101|10101000006230312...| 2019-03-15|           null|      101|           9|          -99|             -99|         -99|          -99|            -99|           -99|2019-03-17 05:17:02|    airun|        null|2019-03-15|   101|\n",
      "+----------+---------+-----------+------+--------------------+-----------+---------------+---------+------------+-------------+----------------+------------+-------------+---------------+--------------+-------------------+---------+------------+----------+------+\n",
      "only showing top 20 rows\n",
      "\n"
     ]
    }
   ],
   "source": [
    "Non_rec_users.show()"
   ]
  },
  {
   "cell_type": "code",
   "execution_count": null,
   "metadata": {
    "id": "ehX2GkrY8v5M"
   },
   "outputs": [],
   "source": [
    "Non_rec=Non_rec_users.groupBy(\"circle\",\"happiness\").count()"
   ]
  },
  {
   "cell_type": "code",
   "execution_count": null,
   "metadata": {
    "id": "Sm0nd_cX8v5M"
   },
   "outputs": [],
   "source": [
    "Non_REC_data=Non_rec.groupBy('circle').pivot('happiness').agg(psf.max(\"count\").alias(\"Non_REC_Users\"))"
   ]
  },
  {
   "cell_type": "code",
   "execution_count": null,
   "metadata": {
    "id": "qFvXmxpr8v5N",
    "outputId": "07251b69-d8bb-47e6-f2c8-1e0da6cf9010"
   },
   "outputs": [
    {
     "name": "stdout",
     "output_type": "stream",
     "text": [
      "+------+--------+-------+\n",
      "|circle|       0|      1|\n",
      "+------+--------+-------+\n",
      "|   108| 1704764| 130453|\n",
      "|   101| 1067183| 117436|\n",
      "|   115|  207105|1605258|\n",
      "|   103| 1794960| 322157|\n",
      "|   122| 3143569| 373456|\n",
      "|   111| 5509086|1266822|\n",
      "|   120| 3856233| 729176|\n",
      "|   117| 1464278|  97750|\n",
      "|   112|10824776| 630376|\n",
      "|   107| 2838325| 237170|\n",
      "|   114| 3109718| 883964|\n",
      "|   102| 3066067| 842555|\n",
      "|   113| 2336898| 239696|\n",
      "|   121|11786241| 777738|\n",
      "|   109| 2021303| 295555|\n",
      "|   105| 5729148| 644574|\n",
      "|   110|10055066| 490615|\n",
      "|   106| 5582458|1049506|\n",
      "|   116|17118769|1094380|\n",
      "|   123| 2579729| 266850|\n",
      "+------+--------+-------+\n",
      "only showing top 20 rows\n",
      "\n"
     ]
    }
   ],
   "source": [
    "Non_REC_data.show()"
   ]
  },
  {
   "cell_type": "code",
   "execution_count": null,
   "metadata": {
    "id": "34d9Mr808v5N"
   },
   "outputs": [],
   "source": [
    "Non_REC_data=Non_REC_data.orderBy(\"circle\")"
   ]
  },
  {
   "cell_type": "code",
   "execution_count": null,
   "metadata": {
    "id": "zqeC-_hG8v5N"
   },
   "outputs": [],
   "source": [
    "Non_REC_data=Non_REC_data.withColumnRenamed(\"0\",\"unhappy_customer_Non_rec\")"
   ]
  },
  {
   "cell_type": "code",
   "execution_count": null,
   "metadata": {
    "id": "vdUQp7do8v5O"
   },
   "outputs": [],
   "source": [
    "Non_REC_data=Non_REC_data.withColumnRenamed(\"1\",\"happy_customer_Non_rec\")"
   ]
  },
  {
   "cell_type": "code",
   "execution_count": null,
   "metadata": {
    "id": "djzB5aAz8v5O",
    "outputId": "bcd5934f-cced-417f-92b8-43d864b1a9c9"
   },
   "outputs": [
    {
     "name": "stdout",
     "output_type": "stream",
     "text": [
      "+------+--------+--------+\n",
      "|circle|       0|       1|\n",
      "+------+--------+--------+\n",
      "|   101| 2758872| 1401007|\n",
      "|   102| 9781393| 7822140|\n",
      "|   103| 7296947| 4664121|\n",
      "|   104|26251196|10199069|\n",
      "|   105|18729856|11173957|\n",
      "|   106|12381192| 6307594|\n",
      "|   107| 7432150| 4384834|\n",
      "|   108| 3579736| 1626906|\n",
      "|   109| 6334935| 4040504|\n",
      "|   110|15941765| 4812810|\n",
      "|   111|10545915| 5279472|\n",
      "|   112|17824852| 5949578|\n",
      "|   113| 4880128| 2415227|\n",
      "|   114| 9700379| 7046274|\n",
      "|   115| 2828945| 4644479|\n",
      "|   116|33073653|10279293|\n",
      "|   117| 4169508| 2176323|\n",
      "|   118| 8821189|13037923|\n",
      "|   119|36180348|13578122|\n",
      "|   120|10310613| 4730032|\n",
      "+------+--------+--------+\n",
      "only showing top 20 rows\n",
      "\n"
     ]
    }
   ],
   "source": [
    "total_rec_non_rec_data.show()"
   ]
  },
  {
   "cell_type": "code",
   "execution_count": null,
   "metadata": {
    "id": "l4-BJD-V8v5P"
   },
   "outputs": [],
   "source": [
    "NonREC_precent_data=Non_REC_data.join(total_rec_non_rec_data,on=\"circle\")"
   ]
  },
  {
   "cell_type": "code",
   "execution_count": null,
   "metadata": {
    "id": "uxtXZxi78v5Q",
    "outputId": "50f524db-7249-45c5-a6de-5c0bfd66cbfd"
   },
   "outputs": [
    {
     "name": "stdout",
     "output_type": "stream",
     "text": [
      "+------+------------------------+----------------------+--------+--------+\n",
      "|circle|unhappy_customer_Non_rec|happy_customer_Non_rec|       0|       1|\n",
      "+------+------------------------+----------------------+--------+--------+\n",
      "|   108|                 1704764|                130453| 3579736| 1626906|\n",
      "|   101|                 1067183|                117436| 2758872| 1401007|\n",
      "|   115|                  207105|               1605258| 2828945| 4644479|\n",
      "|   103|                 1794960|                322157| 7296947| 4664121|\n",
      "|   122|                 3143569|                373456| 7145309| 3391501|\n",
      "|   111|                 5509086|               1266822|10545915| 5279472|\n",
      "|   120|                 3856233|                729176|10310613| 4730032|\n",
      "|   117|                 1464278|                 97750| 4169508| 2176323|\n",
      "|   112|                10824776|                630376|17824852| 5949578|\n",
      "|   107|                 2838325|                237170| 7432150| 4384834|\n",
      "|   114|                 3109718|                883964| 9700379| 7046274|\n",
      "|   102|                 3066067|                842555| 9781393| 7822140|\n",
      "|   113|                 2336898|                239696| 4880128| 2415227|\n",
      "|   121|                11786241|                777738|22798275| 8269843|\n",
      "|   109|                 2021303|                295555| 6334935| 4040504|\n",
      "|   105|                 5729148|                644574|18729856|11173957|\n",
      "|   110|                10055066|                490615|15941765| 4812810|\n",
      "|   106|                 5582458|               1049506|12381192| 6307594|\n",
      "|   116|                17118769|               1094380|33073653|10279293|\n",
      "|   123|                 2579729|                266850| 5005767| 2318142|\n",
      "+------+------------------------+----------------------+--------+--------+\n",
      "only showing top 20 rows\n",
      "\n"
     ]
    }
   ],
   "source": [
    "NonREC_precent_data.show()"
   ]
  },
  {
   "cell_type": "code",
   "execution_count": null,
   "metadata": {
    "id": "4ugD7bfY8v5Q"
   },
   "outputs": [],
   "source": [
    "NonREC_precent_data=NonREC_precent_data.withColumnRenamed(\"0\",\"total_unhappy\")"
   ]
  },
  {
   "cell_type": "code",
   "execution_count": null,
   "metadata": {
    "id": "pbDSsa2G8v5R"
   },
   "outputs": [],
   "source": [
    "NonREC_precent_data=NonREC_precent_data.withColumnRenamed(\"1\",\"total_happy\")"
   ]
  },
  {
   "cell_type": "code",
   "execution_count": null,
   "metadata": {
    "id": "e-lwrgMs8v5d"
   },
   "outputs": [],
   "source": [
    "NonREC_precent_data=NonREC_precent_data.withColumn(\"%non_rec_unhappy_cust\",\n",
    "                               ((NonREC_precent_data.unhappy_customer_Non_rec)/(NonREC_precent_data.total_unhappy)*100))"
   ]
  },
  {
   "cell_type": "code",
   "execution_count": null,
   "metadata": {
    "id": "4ehegF0y8v5d"
   },
   "outputs": [],
   "source": [
    "NonREC_precent_data=NonREC_precent_data.withColumn(\"%non_rec_happy_cust\",\n",
    "                               ((NonREC_precent_data.happy_customer_Non_rec)/(NonREC_precent_data.total_happy)*100))"
   ]
  },
  {
   "cell_type": "code",
   "execution_count": null,
   "metadata": {
    "id": "TFbLSE768v5e",
    "outputId": "1d9fa56d-eeb7-4008-8f5b-a5e2f7f4e1a1"
   },
   "outputs": [
    {
     "name": "stdout",
     "output_type": "stream",
     "text": [
      "root\n",
      " |-- circle: integer (nullable = true)\n",
      " |-- unhappy_customer_Non_rec: long (nullable = true)\n",
      " |-- happy_customer_Non_rec: long (nullable = true)\n",
      " |-- total_unhappy: long (nullable = true)\n",
      " |-- total_happy: long (nullable = true)\n",
      " |-- %non_rec_unhappy_cust: double (nullable = true)\n",
      " |-- %non_rec_happy_cust: double (nullable = true)\n",
      "\n"
     ]
    }
   ],
   "source": [
    "NonREC_precent_data.printSchema()"
   ]
  },
  {
   "cell_type": "code",
   "execution_count": null,
   "metadata": {
    "id": "QRa_tNLO8v5e"
   },
   "outputs": [],
   "source": [
    "NonREC_precent=NonREC_precent_data.select(\"circle\",\"%non_rec_unhappy_cust\",\"%non_rec_happy_cust\")"
   ]
  },
  {
   "cell_type": "code",
   "execution_count": null,
   "metadata": {
    "id": "d5fbJ6Ri8v5e",
    "outputId": "82e1581c-aed1-47c7-aa60-fd49e029ea03"
   },
   "outputs": [
    {
     "name": "stdout",
     "output_type": "stream",
     "text": [
      "+------+---------------------+-------------------+\n",
      "|circle|%non_rec_unhappy_cust|%non_rec_happy_cust|\n",
      "+------+---------------------+-------------------+\n",
      "|   108|   47.622617980767295|  8.018471872376153|\n",
      "|   101|    38.68185983256925|  8.382256476948365|\n",
      "|   115|    7.320927059380794|  34.56271413865796|\n",
      "|   103|    24.59878083258656|  6.907132126289177|\n",
      "|   122|    43.99486432287253| 11.011525575254142|\n",
      "|   111|    52.23905180347083|  23.99524043313422|\n",
      "|   120|   37.400618178569985| 15.415878793209009|\n",
      "|   117|    35.11872383983914|  4.491520789882752|\n",
      "|   112|    60.72856032689641| 10.595306087255265|\n",
      "|   107|    38.18982394058247|  5.408870666483612|\n",
      "|   114|   32.057695890026565| 12.545126686813484|\n",
      "|   102|   31.345913613735792|  10.77141293814736|\n",
      "|   113|   47.885998072181714|  9.924367357602412|\n",
      "|   121|    51.69795083180635|  9.404507437444702|\n",
      "|   109|   31.907241352910486|  7.314805281717331|\n",
      "|   105|    30.58831845797426|  5.768538396917046|\n",
      "|   110|   63.073731170921164| 10.193940753946238|\n",
      "|   106|    45.08821121585062| 16.638769077400987|\n",
      "|   116|    51.75953499905196| 10.646452046847969|\n",
      "|   123|    51.53513937025035| 11.511374195368532|\n",
      "+------+---------------------+-------------------+\n",
      "only showing top 20 rows\n",
      "\n"
     ]
    }
   ],
   "source": [
    "NonREC_precent.show()"
   ]
  },
  {
   "cell_type": "code",
   "execution_count": null,
   "metadata": {
    "id": "XO7fUMZB8v5f"
   },
   "outputs": [],
   "source": [
    "NonREC_precent=NonREC_precent.orderBy(\"circle\")"
   ]
  },
  {
   "cell_type": "code",
   "execution_count": null,
   "metadata": {
    "id": "ePIaUK4L8v5f"
   },
   "outputs": [],
   "source": [
    "NonREC_precent.toPandas().to_csv(\"Non_rec_happiness_wise.csv\",index=False,header=True)"
   ]
  }
 ],
 "metadata": {
  "colab": {
   "name": "CHI_Churn_descriptive_stats (1).ipynb",
   "provenance": []
  },
  "kernelspec": {
   "display_name": "Python 3",
   "language": "python",
   "name": "python3"
  },
  "language_info": {
   "codemirror_mode": {
    "name": "ipython",
    "version": 3
   },
   "file_extension": ".py",
   "mimetype": "text/x-python",
   "name": "python",
   "nbconvert_exporter": "python",
   "pygments_lexer": "ipython3",
   "version": "3.7.6"
  }
 },
 "nbformat": 4,
 "nbformat_minor": 1
}
